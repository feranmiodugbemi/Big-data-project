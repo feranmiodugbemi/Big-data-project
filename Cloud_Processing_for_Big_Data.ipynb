{
  "cells": [
    {
      "cell_type": "code",
      "execution_count": null,
      "metadata": {
        "id": "JLKGUvivH7O7"
      },
      "outputs": [],
      "source": [
        "!pip install kaggle"
      ]
    },
    {
      "cell_type": "code",
      "execution_count": null,
      "metadata": {
        "id": "84-3aGIQthLh"
      },
      "outputs": [],
      "source": [
        "!pip install pandas numpy matplotlib seaborn boto3 pyspark"
      ]
    },
    {
      "cell_type": "code",
      "execution_count": null,
      "metadata": {
        "id": "BosuY4MERRRw"
      },
      "outputs": [],
      "source": [
        "!kaggle datasets download jacksoncrow/stock-market-dataset"
      ]
    },
    {
      "cell_type": "code",
      "execution_count": null,
      "metadata": {
        "id": "9hiqYWPOSt0J"
      },
      "outputs": [],
      "source": [
        "import os\n",
        "import zipfile\n",
        "import gzip\n",
        "import shutil\n",
        "\n",
        "def get_size_gb(file_path):\n",
        "    return os.path.getsize(file_path) / (1024 * 1024 * 1024)\n",
        "\n",
        "def unzip_file(zip_path, extract_path):\n",
        "    with zipfile.ZipFile(zip_path, 'r') as zip_ref:\n",
        "        zip_ref.extractall(extract_path)\n",
        "\n",
        "def compress_file(file_path, output_path):\n",
        "    with open(file_path, 'rb') as f_in:\n",
        "        with gzip.open(output_path, 'wb') as f_out:\n",
        "            shutil.copyfileobj(f_in, f_out)\n",
        "\n",
        "def get_folder_size_gb(folder_path):\n",
        "    total_size = 0\n",
        "    for dirpath, dirnames, filenames in os.walk(folder_path):\n",
        "        for filename in filenames:\n",
        "            file_path = os.path.join(dirpath, filename)\n",
        "            total_size += os.path.getsize(file_path)\n",
        "    return total_size / (1024 * 1024 * 1024)\n",
        "\n",
        "# File paths\n",
        "zip_file = '/content/stock-market-dataset.zip'\n",
        "extract_folder = '/content/stock-market-dataset'\n",
        "\n",
        "# Check original zip file size\n",
        "original_size = get_size_gb(zip_file)\n",
        "print(f\"Original zip file size: {original_size:.2f} GB\")\n",
        "\n",
        "# Unzip the file\n",
        "unzip_file(zip_file, extract_folder)\n",
        "\n",
        "# Get size after unzipping\n",
        "unzipped_size = get_folder_size_gb(extract_folder)\n",
        "print(f\"Size after unzipping: {unzipped_size:.2f} GB\")\n"
      ]
    },
    {
      "cell_type": "code",
      "execution_count": 21,
      "metadata": {
        "id": "eaFr5Mv-0UUh"
      },
      "outputs": [],
      "source": [
        "AWS_ACCESS_KEY_ID = '' # Secret key\n",
        "AWS_SECRET_ACCESS_KEY = '' # Secret Key\n",
        "AWS_DEFAULT_REGION = '' # Your AWS region\n",
        "MY_EMAIL = '' # Your Email\n",
        "ACCOUNT_ID = '' # Your account ID"
      ]
    },
    {
      "cell_type": "code",
      "execution_count": 22,
      "metadata": {
        "id": "_ZnNcWk506Oc"
      },
      "outputs": [],
      "source": [
        "import boto3\n",
        "\n",
        "# Set up session with AWS credentials\n",
        "session = boto3.Session(\n",
        "    aws_access_key_id= AWS_ACCESS_KEY_ID,\n",
        "    aws_secret_access_key= AWS_SECRET_ACCESS_KEY,\n",
        "    region_name= AWS_DEFAULT_REGION\n",
        ")\n",
        "\n",
        "s3 = session.client('s3')"
      ]
    },
    {
      "cell_type": "code",
      "execution_count": null,
      "metadata": {
        "id": "FUu1jsEc2pEb"
      },
      "outputs": [],
      "source": [
        "# Create s3 bucket\n",
        "s3_bucket_name = 'stock-market-dataset'\n",
        "\n",
        "s3.create_bucket(Bucket=s3_bucket_name, CreateBucketConfiguration={'LocationConstraint': AWS_DEFAULT_REGION})\n",
        "\n",
        "print(f\"Bucket {s3_bucket_name} created successfully!\")"
      ]
    },
    {
      "cell_type": "code",
      "execution_count": null,
      "metadata": {
        "id": "Zbr4dRtf1fpW"
      },
      "outputs": [],
      "source": [
        "from botocore.exceptions import NoCredentialsError\n",
        "\n",
        "local_directory = '/content/stock-market-dataset'\n",
        "\n",
        "def upload_directory_to_s3(local_directory, s3_bucket_name):\n",
        "    \"\"\"\n",
        "    Recursively uploads all files in a local directory to an S3 bucket, preserving folder structure.\n",
        "\n",
        "    Args:\n",
        "        local_directory (str): The local directory to upload.\n",
        "        s3_bucket_name (str): The name of the S3 bucket to upload to.\n",
        "    \"\"\"\n",
        "    for root, dirs, files in os.walk(local_directory):\n",
        "        for file in files:\n",
        "            local_file_path = os.path.join(root, file)  # Full local path to the file\n",
        "            relative_path = os.path.relpath(local_file_path, local_directory)  # Relative path for S3 key\n",
        "            s3_key = relative_path.replace(\"\\\\\", \"/\")  # Replace backslashes with forward slashes for S3\n",
        "\n",
        "            try:\n",
        "                # Upload the file\n",
        "                s3.upload_file(local_file_path, s3_bucket_name, s3_key, ExtraArgs={'StorageClass': 'STANDARD_IA', 'ServerSideEncryption': 'AES256'})\n",
        "                print(f\"Uploaded {local_file_path} to s3://{s3_bucket_name}/{s3_key}\")\n",
        "            except FileNotFoundError:\n",
        "                print(f\"File {local_file_path} not found!\")\n",
        "            except NoCredentialsError:\n",
        "                print(\"AWS credentials not available!\")\n",
        "\n",
        "# Call the function to start uploading\n",
        "upload_directory_to_s3(local_directory, s3_bucket_name)\n"
      ]
    },
    {
      "cell_type": "code",
      "execution_count": null,
      "metadata": {
        "id": "7uWkKmOrmDPE"
      },
      "outputs": [],
      "source": [
        "import yfinance as yf\n",
        "import pandas as pd\n",
        "\n",
        "# Function to download daily data and save as CSV\n",
        "def download_history(ticker_list, folder_name):\n",
        "    for ticker in ticker_list:\n",
        "        try:\n",
        "            stock = yf.Ticker(ticker)\n",
        "            hist = stock.history(period=\"max\")\n",
        "            file_name = f\"{folder_name}/{ticker}.csv\"\n",
        "            hist.to_csv(file_name)\n",
        "            print(f\"Downloaded data for {ticker} and saved to {file_name}\")\n",
        "        except Exception as e:\n",
        "            print(f\"Failed to download data for {ticker}: {e}\")\n",
        "\n",
        "# List of top 100 stocks (can be adjusted to actual top 100 from another source)\n",
        "top_100_stocks = [\n",
        "    \"AAPL\", \"MSFT\", \"GOOGL\", \"AMZN\", \"FB\", \"TSLA\", \"BRK-B\", \"JPM\", \"JNJ\", \"V\",\n",
        "    \"PG\", \"NVDA\", \"DIS\", \"MA\", \"PYPL\", \"VZ\", \"ADBE\", \"NFLX\", \"CMCSA\", \"PFE\",\n",
        "    \"KO\", \"PEP\", \"NKE\", \"MRK\", \"T\", \"INTC\", \"XOM\", \"CSCO\", \"BA\", \"UNH\",\n",
        "    \"MCD\", \"WMT\", \"ABT\", \"CVX\", \"COST\", \"MDT\", \"NEE\", \"LLY\", \"PM\", \"TMO\",\n",
        "    \"DHR\", \"WFC\", \"IBM\", \"RTX\", \"ORCL\", \"C\", \"GS\", \"HON\", \"UPS\", \"QCOM\", \"SPGI\",\n",
        "    \"AMGN\", \"TXN\", \"INTU\", \"MS\", \"LOW\", \"BLK\", \"BMY\", \"CAT\", \"SCHW\", \"MMM\",\n",
        "    \"ZTS\", \"PLD\", \"BKNG\", \"AXP\", \"SBUX\", \"GILD\", \"CB\", \"ISRG\", \"USB\", \"MDLZ\",\n",
        "    \"UNP\", \"BA\", \"TGT\", \"MU\", \"MO\", \"LMT\", \"CSX\", \"CI\", \"EL\", \"DE\", \"F\",\n",
        "    \"TJX\", \"HUM\", \"MET\", \"CCI\", \"DUK\", \"APD\", \"EQIX\", \"TROW\", \"GM\", \"MMC\",\n",
        "    \"PGR\", \"SYK\", \"ICE\", \"ECL\", \"FISV\", \"FDX\", \"ADI\", \"COP\", \"CME\", \"PSA\", \"DG\"\n",
        "]\n",
        "\n",
        "# List of top 100 ETFs (can be adjusted to actual top 100 from another source)\n",
        "top_100_etfs = [\n",
        "    \"SPY\", \"IVV\", \"VOO\", \"QQQ\", \"VTI\", \"VEA\", \"VWO\", \"IWM\", \"AGG\", \"BND\",\n",
        "    \"GLD\", \"VIG\", \"LQD\", \"EFA\", \"SHY\", \"VNQ\", \"HYG\", \"IEF\", \"XLK\", \"VUG\",\n",
        "    \"SCHX\", \"EEM\", \"VO\", \"IEFA\", \"IWF\", \"IJH\", \"XLF\", \"IWD\", \"XLV\", \"VTV\",\n",
        "    \"VEU\", \"IWB\", \"IJR\", \"DIA\", \"ITOT\", \"XLI\", \"XLE\", \"VYM\", \"XLY\", \"XLP\",\n",
        "    \"MBB\", \"SCHF\", \"VT\", \"BIV\", \"SPLG\", \"SCHB\", \"VHT\", \"SDY\", \"VOT\", \"EWJ\",\n",
        "    \"TLT\", \"XLC\", \"XLU\", \"MTUM\", \"XBI\", \"BNDX\", \"VGT\", \"SPDW\", \"BNDW\", \"BSV\",\n",
        "    \"IEMG\", \"SCHD\", \"VGK\", \"MUB\", \"GDX\", \"EWZ\", \"VB\", \"SPAB\", \"SCHR\", \"IGSB\",\n",
        "    \"ACWI\", \"SLV\", \"ESGU\", \"SPTM\", \"SCHP\", \"XOP\", \"VTIP\", \"SCHF\", \"VFH\", \"SPYG\",\n",
        "    \"IVW\", \"MGK\", \"XRT\", \"VOE\", \"RSP\", \"VBK\", \"VBR\", \"XLRE\", \"FDN\", \"FXI\",\n",
        "    \"EWT\", \"EWG\", \"PFF\", \"FNDX\", \"EWU\", \"EMB\", \"PBD\", \"SCHH\", \"SCZ\", \"VCSH\"\n",
        "]\n",
        "\n",
        "# Create folder names for stocks and ETFs\n",
        "stock_folder = \"stocks_data\"\n",
        "etf_folder = \"etfs_data\"\n",
        "\n",
        "# Make directories if they don't exist\n",
        "import os\n",
        "os.makedirs(stock_folder, exist_ok=True)\n",
        "os.makedirs(etf_folder, exist_ok=True)\n",
        "\n",
        "# Download the historical data\n",
        "print(\"Downloading stock data...\")\n",
        "download_history(top_100_stocks, stock_folder)\n",
        "\n",
        "print(\"Downloading ETF data...\")\n",
        "download_history(top_100_etfs, etf_folder)\n",
        "\n",
        "print(\"Data download completed!\")\n"
      ]
    },
    {
      "cell_type": "code",
      "execution_count": null,
      "metadata": {
        "id": "jc5thXhOmDJf"
      },
      "outputs": [],
      "source": [
        "from pyspark.sql import SparkSession\n",
        "from pyspark.sql.functions import col, to_date\n",
        "import shutil\n",
        "\n",
        "# Initialize SparkSession\n",
        "spark = SparkSession.builder \\\n",
        "    .appName(\"Stock and ETF Data Transformation\") \\\n",
        "    .getOrCreate()\n",
        "\n",
        "# Define your S3 bucket and local directories\n",
        "s3_bucket_name = 'stock-market-dataset'\n",
        "stocks_folder_s3 = 'stocks/'\n",
        "etfs_folder_s3 = 'etfs/'\n",
        "local_stocks_directory = '/content/stocks_data'\n",
        "local_etfs_directory = '/content/etfs_data'\n",
        "\n",
        "def transform_and_save(file_path, output_dir):\n",
        "    \"\"\"\n",
        "    Transform data by converting 'Date' column and dropping unwanted columns.\n",
        "    Save the transformed data to the output directory.\n",
        "\n",
        "    Args:\n",
        "        file_path (str): The path to the input file.\n",
        "        output_dir (str): The directory to save the transformed data.\n",
        "    \"\"\"\n",
        "    # Read the data into a DataFrame\n",
        "    df = spark.read.csv(file_path, header=True, inferSchema=True)\n",
        "\n",
        "    # Transform the data\n",
        "    df_cleaned = df.withColumn('Date', to_date(col('Date'), 'yyyy-MM-dd')) \\\n",
        "                   .drop('Dividends', 'Stock Splits')\n",
        "\n",
        "    # Save the transformed data to a directory\n",
        "    df_cleaned.write.mode('overwrite').csv(output_dir, header=True)\n",
        "    print(f\"Transformed data saved to {output_dir}\")\n",
        "\n",
        "def process_directory(local_directory, s3_folder):\n",
        "    \"\"\"\n",
        "    Process files in the local directory, transform them, and save the results.\n",
        "\n",
        "    Args:\n",
        "        local_directory (str): The path to the local directory.\n",
        "        s3_folder (str): The S3 folder where the files should be uploaded.\n",
        "    \"\"\"\n",
        "    for root, dirs, files in os.walk(local_directory):\n",
        "        for file_name in files:\n",
        "            file_path = os.path.join(root, file_name)\n",
        "            output_dir = f'/tmp/cleaned_{file_name}_dir'\n",
        "\n",
        "            # Create a directory for the transformed data\n",
        "            os.makedirs(output_dir, exist_ok=True)\n",
        "\n",
        "            transform_and_save(file_path, output_dir)\n",
        "\n",
        "            # Upload files to S3\n",
        "            for transformed_file in os.listdir(output_dir):\n",
        "                file_path = os.path.join(output_dir, transformed_file)\n",
        "                s3_key = f'{s3_folder}{file_name}/{transformed_file}'\n",
        "                s3.upload_file(file_path, s3_bucket_name, s3_key)\n",
        "                print(f\"Uploaded {file_path} to s3://{s3_bucket_name}/{s3_key}\")\n",
        "\n",
        "            # Clean up the temporary directory\n",
        "            shutil.rmtree(output_dir)\n",
        "            print(f\"Cleaned up temporary directory {output_dir}\")\n",
        "\n",
        "# Process stocks data\n",
        "print(\"Processing stocks data:\")\n",
        "process_directory(local_stocks_directory, stocks_folder_s3)\n",
        "\n",
        "# Process ETFs data\n",
        "print(\"\\nProcessing ETFs data:\")\n",
        "process_directory(local_etfs_directory, etfs_folder_s3)\n",
        "\n",
        "# Stop the Spark session\n",
        "spark.stop()\n"
      ]
    },
    {
      "cell_type": "code",
      "execution_count": null,
      "metadata": {
        "id": "kjL4Zf2ieeJA"
      },
      "outputs": [],
      "source": [
        "from botocore.exceptions import NoCredentialsError, PartialCredentialsError\n",
        "\n",
        "def download_file_from_s3(bucket_name, s3_key, local_file_path):\n",
        "    \"\"\"\n",
        "    Download a file from an S3 bucket to the local file system.\n",
        "\n",
        "    Args:\n",
        "        bucket_name (str): Name of the S3 bucket.\n",
        "        s3_key (str): Key (path) of the file in S3.\n",
        "        local_file_path (str): Local path where the file will be saved.\n",
        "    \"\"\"\n",
        "\n",
        "    try:\n",
        "        s3.download_file(bucket_name, s3_key, local_file_path)\n",
        "        print(f\"File downloaded successfully from s3://{bucket_name}/{s3_key} to {local_file_path}\")\n",
        "    except NoCredentialsError:\n",
        "        print(\"Credentials not available.\")\n",
        "    except PartialCredentialsError:\n",
        "        print(\"Incomplete credentials provided.\")\n",
        "    except Exception as e:\n",
        "        print(f\"Error downloading file: {e}\")\n",
        "\n",
        "# Example usage\n",
        "bucket_name = 'stock-market-dataset'\n",
        "s3_key = 'stocks/AMZN.csv'\n",
        "local_file_path = 'AMZN.csv'\n",
        "\n",
        "download_file_from_s3(bucket_name, s3_key, local_file_path)\n"
      ]
    },
    {
      "cell_type": "code",
      "execution_count": 5,
      "metadata": {
        "id": "jPUoZiC1ippv"
      },
      "outputs": [],
      "source": [
        "import numpy as np"
      ]
    },
    {
      "cell_type": "code",
      "execution_count": 6,
      "metadata": {
        "id": "QkvSHlzRmDFC"
      },
      "outputs": [],
      "source": [
        "import pandas as pd\n",
        "\n",
        "import matplotlib.pyplot as plt\n",
        "amzn = pd.read_csv('/content/AMZN.csv')"
      ]
    },
    {
      "cell_type": "code",
      "execution_count": null,
      "metadata": {
        "id": "ZBeeKyGqmC-v"
      },
      "outputs": [],
      "source": [
        "amzn.head()"
      ]
    },
    {
      "cell_type": "code",
      "execution_count": null,
      "metadata": {
        "id": "HXPVxLEbyY7v"
      },
      "outputs": [],
      "source": [
        "amzn.tail()"
      ]
    },
    {
      "cell_type": "code",
      "execution_count": null,
      "metadata": {
        "id": "h82jVwJfyam1"
      },
      "outputs": [],
      "source": [
        "amzn.describe()"
      ]
    },
    {
      "cell_type": "code",
      "execution_count": null,
      "metadata": {
        "id": "KIUNG8Aw5TUh"
      },
      "outputs": [],
      "source": [
        "amzn.info()"
      ]
    },
    {
      "cell_type": "code",
      "execution_count": 11,
      "metadata": {
        "id": "pvhbbQj3_vs4"
      },
      "outputs": [],
      "source": [
        "amzn['Date']= pd.to_datetime(amzn['Date'])"
      ]
    },
    {
      "cell_type": "code",
      "execution_count": 12,
      "metadata": {
        "id": "JAgzLRon_vqH"
      },
      "outputs": [],
      "source": [
        "amzn.set_index('Date', inplace=True)\n",
        "amzn['diff'] = amzn['Open'] - amzn['Close']"
      ]
    },
    {
      "cell_type": "code",
      "execution_count": null,
      "metadata": {
        "id": "WnG59euM_vjT"
      },
      "outputs": [],
      "source": [
        "\n",
        "plt.figure(figsize=(14,10))\n",
        "plt.plot(amzn['Close'])\n",
        "plt.grid()\n",
        "plt.xlabel('Year')\n",
        "plt.ylabel('Close Price')\n",
        "plt.title('Amazon Stock Price')\n",
        "plt.show()"
      ]
    },
    {
      "cell_type": "code",
      "execution_count": 14,
      "metadata": {
        "id": "D-8basdm_vbi"
      },
      "outputs": [],
      "source": [
        "amzn = amzn.loc[pd.Timestamp('2015-01-01'):pd.Timestamp('2024-01-01')]"
      ]
    },
    {
      "cell_type": "code",
      "execution_count": null,
      "metadata": {
        "id": "I0fYKYm8_vYj"
      },
      "outputs": [],
      "source": [
        "amzn.head()"
      ]
    },
    {
      "cell_type": "code",
      "execution_count": null,
      "metadata": {
        "id": "Kr90sStJ_vWM"
      },
      "outputs": [],
      "source": [
        "amzn.tail()"
      ]
    },
    {
      "cell_type": "code",
      "execution_count": null,
      "metadata": {
        "id": "IagFT2UU_vTs"
      },
      "outputs": [],
      "source": [
        "plt.figure(figsize=(14,10))\n",
        "plt.plot(amzn['Close'])\n",
        "plt.grid()\n",
        "plt.xlabel('Year')\n",
        "plt.ylabel('Close Price')\n",
        "plt.title('Amazon Stock Price')\n",
        "plt.show()"
      ]
    },
    {
      "cell_type": "code",
      "execution_count": null,
      "metadata": {
        "id": "drSGtlI4_vQH"
      },
      "outputs": [],
      "source": [
        "daily_close = amzn[['Close']]\n",
        "daily_pct_c = daily_close.pct_change()\n",
        "daily_pct_c.fillna(0, inplace=True)\n",
        "print(daily_pct_c)"
      ]
    },
    {
      "cell_type": "code",
      "execution_count": null,
      "metadata": {
        "id": "O19xFo4v_vNv"
      },
      "outputs": [],
      "source": [
        "daily_pct_c.hist(bins=50)\n",
        "plt.show()\n",
        "print(daily_pct_c.describe())"
      ]
    },
    {
      "cell_type": "code",
      "execution_count": null,
      "metadata": {
        "id": "KXk0xTcX_vK5"
      },
      "outputs": [],
      "source": [
        "pd.plotting.scatter_matrix(daily_pct_c, diagonal='kde', alpha=0.1,figsize=(8,8))\n",
        "plt.show()"
      ]
    },
    {
      "cell_type": "code",
      "execution_count": null,
      "metadata": {
        "id": "pT-7-UpQ_vId"
      },
      "outputs": [],
      "source": [
        "adj_close_px = amzn['Close']\n",
        "amzn['50'] = adj_close_px.rolling(window=50).mean()\n",
        "amzn['100'] = adj_close_px.rolling(window=100).mean()\n",
        "\n",
        "plt.figure(figsize=(16,12))\n",
        "plt.plot(amzn['Close'], label='Close')\n",
        "plt.plot(amzn['50'], label='50')\n",
        "plt.plot(amzn['100'], label='100')\n",
        "plt.title('Simple Moving Average', fontsize=20)\n",
        "plt.grid()\n",
        "plt.legend()\n",
        "plt.show()"
      ]
    },
    {
      "cell_type": "code",
      "execution_count": null,
      "metadata": {
        "id": "JLtX7u9X_vE4"
      },
      "outputs": [],
      "source": [
        "plt.figure(figsize=(16,12))\n",
        "plt.plot(adj_close_px, label='Close')\n",
        "plt.plot(adj_close_px.ewm(span=50, adjust=False).mean(), label='50')\n",
        "plt.plot(adj_close_px.ewm(span=100, adjust=False).mean(), label='100')\n",
        "plt.title('Exponential Moving Average', fontsize=20)\n",
        "plt.legend()\n",
        "plt.grid()\n",
        "plt.show()"
      ]
    },
    {
      "cell_type": "code",
      "execution_count": null,
      "metadata": {
        "id": "ZJ3JZ3JZ_vB6"
      },
      "outputs": [],
      "source": [
        "min_periods = 75\n",
        "vol = daily_pct_c.rolling(min_periods).std() * np.sqrt(min_periods)\n",
        "plt.figure(figsize=(10, 8))\n",
        "plt.plot(vol)\n",
        "plt.title('Volatility of Amazon Stocks')\n",
        "plt.show()"
      ]
    },
    {
      "cell_type": "code",
      "execution_count": 24,
      "metadata": {
        "id": "G2vWJBPy_u_J"
      },
      "outputs": [],
      "source": [
        "short_window = 13\n",
        "long_window = 49\n",
        "\n",
        "signals = pd.DataFrame(index=amzn.index)\n",
        "signals['signal'] = 0.0\n",
        "\n",
        "signals['short_mavg'] = amzn['Close'].rolling(window=short_window, min_periods=1, center=False).mean()\n",
        "signals['long_mavg'] = amzn['Close'].rolling(window=long_window, min_periods=1, center=False).mean()\n",
        "signals['signal'][short_window:] = np.where(signals['short_mavg'][short_window:]\n",
        "                                            > signals['long_mavg'][short_window:], 1.0, 0.0)\n",
        "\n",
        "signals['positions'] = signals['signal'].diff()"
      ]
    },
    {
      "cell_type": "code",
      "execution_count": null,
      "metadata": {
        "id": "rhrQmXQW_u8L"
      },
      "outputs": [],
      "source": [
        "fig = plt.figure(figsize=(14,10))\n",
        "ax1 = fig.add_subplot(111,  ylabel='Price ($)')\n",
        "amzn['Close'].plot(ax=ax1, lw=2.)\n",
        "signals[['short_mavg', 'long_mavg']].plot(ax=ax1, lw=2.)\n",
        "ax1.plot(signals.loc[signals.positions == 1.0].index,\n",
        "         signals.short_mavg[signals.positions == 1.0],\n",
        "         '^', markersize=10, color='red')\n",
        "ax1.plot(signals.loc[signals.positions == -1.0].index,\n",
        "         signals.short_mavg[signals.positions == -1.0],\n",
        "         'v', markersize=10, color='black')\n",
        "plt.show()"
      ]
    },
    {
      "cell_type": "code",
      "execution_count": 26,
      "metadata": {
        "id": "W_LwQyhg_u1t"
      },
      "outputs": [],
      "source": [
        "initial_capital= float(100000.0)\n",
        "positions = pd.DataFrame(index=signals.index).fillna(0.0)\n",
        "positions['AMZN'] = 100*signals['signal']\n",
        "portfolio = positions.multiply(amzn['Close'], axis=0)\n",
        "pos_diff = positions.diff()\n",
        "portfolio['holdings'] = (positions.multiply(amzn['Close'], axis=0)).sum(axis=1)\n",
        "portfolio['cash'] = initial_capital - (pos_diff.multiply(amzn['Close'], axis=0)).sum(axis=1).cumsum()\n",
        "portfolio['total'] = portfolio['cash'] + portfolio['holdings']\n",
        "portfolio['returns'] = portfolio['total'].pct_change()"
      ]
    },
    {
      "cell_type": "code",
      "execution_count": null,
      "metadata": {
        "id": "eltjgm3Me4dZ"
      },
      "outputs": [],
      "source": [
        "portfolio.head()"
      ]
    },
    {
      "cell_type": "code",
      "execution_count": null,
      "metadata": {
        "id": "Lc8LLtbye4R0"
      },
      "outputs": [],
      "source": [
        "fig = plt.figure(figsize=(14,10))\n",
        "ax1 = fig.add_subplot(111, ylabel='Portfolio value in $')\n",
        "portfolio['total'].plot(ax=ax1, lw=2.)\n",
        "ax1.plot(portfolio.loc[signals.positions == 1.0].index,\n",
        "         portfolio.total[signals.positions == 1.0],\n",
        "         '^', markersize=10, color='m')\n",
        "ax1.plot(portfolio.loc[signals.positions == -1.0].index,\n",
        "         portfolio.total[signals.positions == -1.0],\n",
        "         'v', markersize=10, color='k')\n",
        "plt.title('Portfolio Value in Time')\n",
        "plt.show()"
      ]
    },
    {
      "cell_type": "code",
      "execution_count": 28,
      "metadata": {
        "id": "ijor7b5le4FZ"
      },
      "outputs": [],
      "source": []
    },
    {
      "cell_type": "code",
      "source": [
        "!pip install optuna pmdarima"
      ],
      "metadata": {
        "id": "Jb2FPRkH5s__"
      },
      "execution_count": null,
      "outputs": []
    },
    {
      "cell_type": "code",
      "execution_count": 30,
      "metadata": {
        "id": "KmCsXspEfTXc"
      },
      "outputs": [],
      "source": [
        "import datetime\n",
        "import optuna\n",
        "\n",
        "import pandas_datareader as pdr\n",
        "from prophet import Prophet\n",
        "from sklearn.metrics import mean_absolute_error, mean_squared_error\n",
        "from sklearn.model_selection import train_test_split\n",
        "from statsmodels.tsa.arima.model import ARIMA\n",
        "from xgboost import XGBRegressor\n",
        "\n",
        "from pmdarima import auto_arima\n",
        "\n",
        "import warnings\n",
        "warnings.filterwarnings(\"ignore\")\n",
        "\n",
        "plt.style.use('ggplot')\n",
        "######################################################################################\n",
        "\n",
        "num_days_pred=30 # Number of days you want to predict in the future the higher the less accuracy\n",
        "######################################################################################\n",
        "\n",
        "stock_data = pd.read_csv('/content/AMZN.csv')\n",
        "\n",
        "stock_data = pd.DataFrame(stock_data)\n",
        "# Here I choose to only use the last 3 years of stock data\n",
        "slice = int(len(stock_data)- 356*3)\n",
        "stock_data = stock_data.iloc[slice:]\n",
        "\n",
        "# Here I Choose to continue with only Close value column since that is what we care about\n",
        "stock_data.drop(columns=['Open', 'High', 'Low', 'Volume'],inplace=True)\n",
        "\n",
        "\n",
        "# Function to calculate mean absolute error percentage\n",
        "def mean_absolute_percentage_error(y_true, y_pred):\n",
        "    \"\"\"Calculates MAPE given y_true and y_pred\"\"\"\n",
        "    y_true, y_pred = np.array(y_true), np.array(y_pred)\n",
        "    return np.mean(np.abs((y_true - y_pred) / y_true)) * 100\n",
        "\n",
        "def add_lags(df,num_days_pred=num_days_pred):\n",
        "    target = 'Close'\n",
        "    df['lag1'] = df[target].shift(num_days_pred)\n",
        "    df['lag2'] = df[target].shift(num_days_pred*2)\n",
        "    df['lag3'] = df[target].shift(num_days_pred*3)\n",
        "    df['lag4'] = df[target].shift(num_days_pred*4)\n",
        "    df['lag5'] = df[target].shift(num_days_pred*5)\n",
        "    df['lag6'] = df[target].shift(num_days_pred*6)\n",
        "    df['lag7'] = df[target].shift(num_days_pred*7)\n",
        "    df['lag8'] = df[target].shift(num_days_pred*8)\n",
        "    df['lag9'] = df[target].shift(num_days_pred*9)\n",
        "    df['lag10'] = df[target].shift(num_days_pred*10)\n",
        "    df['lag11'] = df[target].shift(num_days_pred*11)\n",
        "    df['lag12'] = df[target].shift(num_days_pred*12)\n",
        "\n",
        "\n",
        "\n",
        "    return df\n",
        "\n",
        "def create_features(df):\n",
        "    \"\"\"\n",
        "    Create time series features based on time series index.\n",
        "    Ensure the index is in datetime format before extracting time features.\n",
        "    \"\"\"\n",
        "    df = df.copy()\n",
        "\n",
        "    # Convert the 'Date' column to datetime if it's not already\n",
        "    df['Date'] = pd.to_datetime(df['Date'], format='%Y-%m-%d')\n",
        "\n",
        "    # Set the 'Date' column as the index\n",
        "    df.set_index('Date', inplace=True)\n",
        "\n",
        "    # Now create the time-based features\n",
        "    df['hour'] = df.index.hour\n",
        "    df['dayofweek'] = df.index.dayofweek\n",
        "    df['quarter'] = df.index.quarter\n",
        "    df['month'] = df.index.month\n",
        "    df['year'] = df.index.year\n",
        "    df['dayofyear'] = df.index.dayofyear\n",
        "    df['dayofmonth'] = df.index.day\n",
        "    df['weekofyear'] = df.index.isocalendar().week\n",
        "\n",
        "    return df\n",
        "\n"
      ]
    },
    {
      "cell_type": "code",
      "execution_count": 31,
      "metadata": {
        "id": "5FPuoQiQfTT1"
      },
      "outputs": [],
      "source": [
        "df_xgb = stock_data.copy()"
      ]
    },
    {
      "cell_type": "code",
      "source": [
        "df_xgb.head()"
      ],
      "metadata": {
        "id": "z9TlNtDyCN0c"
      },
      "execution_count": null,
      "outputs": []
    },
    {
      "cell_type": "code",
      "execution_count": 33,
      "metadata": {
        "id": "4G08dajsfTNa"
      },
      "outputs": [],
      "source": [
        "def xgboostmodel(df_xgb,add_lags,create_features,num_days_pred=num_days_pred):\n",
        "\n",
        "    df_xgb = create_features(df_xgb)\n",
        "    df_xgb = add_lags(stock_data)\n",
        "\n",
        "    X = df_xgb.drop(columns='Close')\n",
        "    y = df_xgb['Close']\n",
        "    return X,y\n",
        "X,y = xgboostmodel(df_xgb ,add_lags,create_features,num_days_pred=30)"
      ]
    },
    {
      "cell_type": "code",
      "source": [
        "# Drop 'Date' column if it exists, and ensure only numeric features are used\n",
        "X = stock_data.drop(columns=['Date'])\n",
        "y = stock_data['Close']  # Assuming 'Close' is the target\n",
        "\n",
        "# Split the data into train and test sets\n",
        "X_train, X_test, y_train, y_test = train_test_split(X, y, test_size=0.3, random_state=42)\n",
        "\n",
        "# Define objective function for Optuna\n",
        "def objective(trial):\n",
        "    # Define hyperparameters to search\n",
        "    param = {\n",
        "        'objective': 'reg:squarederror',\n",
        "        'eval_metric': 'rmse',\n",
        "        'n_estimators': trial.suggest_int('n_estimators', 100, 1000),\n",
        "        'max_depth': trial.suggest_int('max_depth', 3, 10),\n",
        "        'learning_rate': trial.suggest_float('learning_rate', 0.01, 0.1),\n",
        "        'subsample': trial.suggest_float('subsample', 0.6, 1.0),\n",
        "        'colsample_bytree': trial.suggest_float('colsample_bytree', 0.6, 1.0),\n",
        "        'reg_alpha': trial.suggest_float('reg_alpha', 0, 10),\n",
        "        'reg_lambda': trial.suggest_float('reg_lambda', 0, 10),\n",
        "        'verbosity': 0,\n",
        "    }\n",
        "\n",
        "    # Initialize XGBoost regressor with the suggested parameters\n",
        "    xgb = XGBRegressor(**param)\n",
        "\n",
        "    # Fit the model on training data\n",
        "    xgb.fit(X_train, y_train)\n",
        "\n",
        "    # Predict on the validation set\n",
        "    y_pred = xgb.predict(X_test)\n",
        "\n",
        "    # Calculate RMSE\n",
        "    rmse = np.sqrt(mean_squared_error(y_test, y_pred))\n",
        "\n",
        "    return rmse\n",
        "\n",
        "# Perform hyperparameter optimization using Optuna\n",
        "study = optuna.create_study(direction='minimize')\n",
        "study.optimize(objective, n_trials=50)\n",
        "\n",
        "# Print the best trial and parameters found\n",
        "print(\"Best trial:\")\n",
        "best_trial = study.best_trial\n",
        "print(f\"  Value: {best_trial.value}\")\n",
        "print(\"  Params: \")\n",
        "for key, value in best_trial.params.items():\n",
        "    print(f\"    {key}: {value}\")\n",
        "\n",
        "# Use the best parameters to train the final model\n",
        "best_params = best_trial.params\n",
        "xgb_best = XGBRegressor(**best_params)\n",
        "xgb_best.fit(X_train, y_train)\n",
        "\n",
        "# Make predictions on the test set\n",
        "y_pred_test = xgb_best.predict(X_test)\n",
        "\n",
        "# Calculate RMSE on the test set\n",
        "rmse_test = np.sqrt(mean_squared_error(y_test, y_pred_test))\n",
        "print(\"Test RMSE:\", rmse_test)\n"
      ],
      "metadata": {
        "id": "V5-foOA57KAj"
      },
      "execution_count": null,
      "outputs": []
    },
    {
      "cell_type": "code",
      "source": [
        "y_pred_test_xgb = xgb_best.predict(X_test)\n",
        "xgb_loss = mean_absolute_percentage_error(y_test, y_pred_test_xgb)\n",
        "print(f\"ERROR PERCENT = { mean_absolute_percentage_error(y_test, y_pred_test_xgb) }% \")"
      ],
      "metadata": {
        "id": "9vzLaZm57J9w"
      },
      "execution_count": null,
      "outputs": []
    },
    {
      "cell_type": "code",
      "source": [
        "plt.figure(figsize=(10, 6))\n",
        "plt.scatter(X_test.index, y_test, color='blue', label='Actual')\n",
        "plt.scatter(X_test.index, y_pred_test_xgb , color='red', label='Predicted')\n",
        "plt.title('Actual vs Predicted Values')\n",
        "plt.xlabel('Time')\n",
        "plt.ylabel('Value')\n",
        "plt.legend()\n",
        "plt.show()"
      ],
      "metadata": {
        "id": "5AB0_PrD7J6s",
        "colab": {
          "base_uri": "https://localhost:8080/",
          "height": 569
        },
        "outputId": "f3be3b2a-75c4-4758-f7c8-e382b64f12d9"
      },
      "execution_count": 36,
      "outputs": [
        {
          "output_type": "display_data",
          "data": {
            "text/plain": [
              "<Figure size 1000x600 with 1 Axes>"
            ],
            "image/png": "[encoded data removed]"
          },
          "metadata": {}
        }
      ]
    },
    {
      "cell_type": "code",
      "source": [
        "# Let's ZoomIn\n",
        "plt.figure(figsize=(10, 6))\n",
        "plt.scatter(X_test.index[:30], y_test[:30], color='blue', label='Actual')\n",
        "plt.scatter(X_test.index[:30], y_pred_test_xgb[:30] , color='red', label='Predicted')\n",
        "plt.title('Actual vs Predicted Values')\n",
        "plt.xlabel('Time')\n",
        "plt.ylabel('Value')\n",
        "plt.legend()\n",
        "plt.show()"
      ],
      "metadata": {
        "id": "oD4KjUsn7Jwe",
        "colab": {
          "base_uri": "https://localhost:8080/",
          "height": 569
        },
        "outputId": "99d90968-153e-4466-a1f5-6228f7ed3c25"
      },
      "execution_count": 37,
      "outputs": [
        {
          "output_type": "display_data",
          "data": {
            "text/plain": [
              "<Figure size 1000x600 with 1 Axes>"
            ],
            "image/png": "[encoded data removed]"
          },
          "metadata": {}
        }
      ]
    },
    {
      "cell_type": "code",
      "source": [
        "# Cost management\n",
        "from datetime import datetime, timedelta\n",
        "\n",
        "ce = session.client('ce')\n",
        "# Define the time period (last 30 days)\n",
        "end_date = datetime.utcnow().date()\n",
        "start_date = (end_date - timedelta(days=30)).strftime('%Y-%m-%d')\n",
        "end_date = end_date.strftime('%Y-%m-%d')\n",
        "\n",
        "# Query Cost Explorer for total costs\n",
        "response = ce.get_cost_and_usage(\n",
        "    TimePeriod={\n",
        "        'Start': start_date,\n",
        "        'End': end_date\n",
        "    },\n",
        "    Granularity='MONTHLY',  # or DAILY for finer granularity\n",
        "    Metrics=['BlendedCost']\n",
        ")\n",
        "\n",
        "# Extract the cost data\n",
        "costs = response['ResultsByTime'][0]['Total']['BlendedCost']['Amount']\n",
        "unit = response['ResultsByTime'][0]['Total']['BlendedCost']['Unit']\n",
        "\n",
        "print(f\"Total AWS cost for the last 30 days: {costs} {unit}\")"
      ],
      "metadata": {
        "id": "AGq1q8qe7f0U"
      },
      "execution_count": null,
      "outputs": []
    },
    {
      "cell_type": "code",
      "source": [
        "\n",
        "sns = session.client('sns')\n",
        "# Create a new SNS topic\n",
        "response = sns.create_topic(Name='CostNotifications')\n",
        "topic_arn = response['TopicArn']\n",
        "\n",
        "# Subscribe your email to the topic\n",
        "sns.subscribe(\n",
        "    TopicArn=topic_arn,\n",
        "    Protocol='email',\n",
        "    Endpoint= MY_EMAIL # your email\n",
        ")\n",
        "\n",
        "# Publish a test message to the topic\n",
        "sns.publish(\n",
        "    TopicArn=topic_arn,\n",
        "    Message='This is a test notification for cost monitoring',\n",
        "    Subject='Cost Alert'\n",
        ")\n",
        "\n",
        "print(\"SNS setup and test notification sent\")"
      ],
      "metadata": {
        "id": "noqpLYvY82qe"
      },
      "execution_count": null,
      "outputs": []
    },
    {
      "cell_type": "code",
      "source": [
        "# cloud watch\n",
        "\n",
        "cloudwatch = session.client(\"cloudwatch\")\n",
        "bucket_name = \"stock-market-dataset\"\n",
        "storage_type = \"StandardStorage\"\n",
        "\n",
        "# Fetch S3 bucket size metrics\n",
        "response = cloudwatch.get_metric_statistics(\n",
        "    Namespace='AWS/S3',\n",
        "    MetricName='BucketSizeBytes',\n",
        "    Dimensions=[\n",
        "        {\n",
        "            'Name': 'BucketName',\n",
        "            'Value': bucket_name\n",
        "        },\n",
        "        {\n",
        "            'Name': 'StorageType',\n",
        "            'Value': storage_type\n",
        "        }\n",
        "    ],\n",
        "    StartTime=datetime.utcnow() - timedelta(days=1),\n",
        "    EndTime=datetime.utcnow(),\n",
        "    Period=86400,  # 1-day period\n",
        "    Statistics=['Average']\n",
        ")\n",
        "\n",
        "# Display the bucket size\n",
        "for data_point in response['Datapoints']:\n",
        "    print(f\"Average Bucket Size (in bytes): {data_point['Average']}\")"
      ],
      "metadata": {
        "id": "uyIQlkvdDwBt"
      },
      "execution_count": 27,
      "outputs": []
    },
    {
      "cell_type": "code",
      "source": [
        "# Define the alarm threshold in bytes (e.g., 1 GB = 1 * 1024^3 bytes)\n",
        "alarm_threshold = 1 * 1024**3  # 1 GB in bytes\n",
        "\n",
        "response = cloudwatch.put_metric_alarm(\n",
        "    AlarmName='S3BucketSizeAlarm',\n",
        "    MetricName='BucketSizeBytes',\n",
        "    Namespace='AWS/S3',\n",
        "    Dimensions=[\n",
        "        {\n",
        "            'Name': 'BucketName',\n",
        "            'Value': bucket_name\n",
        "        },\n",
        "        {\n",
        "            'Name': 'StorageType',\n",
        "            'Value': storage_type\n",
        "        }\n",
        "    ],\n",
        "    Statistic='Average',\n",
        "    Period=86400,  # Alarm checks once per day\n",
        "    EvaluationPeriods=1,\n",
        "    Threshold=alarm_threshold,\n",
        "    ComparisonOperator='GreaterThanThreshold',\n",
        "    AlarmActions=[f'arn:aws:sns:{AWS_DEFAULT_REGION}:{ACCOUNT_ID}:1-GB-exceeded'],\n",
        "    AlarmDescription='Alarm when S3 bucket size exceeds 1 GB',\n",
        "    ActionsEnabled=True\n",
        ")\n",
        "\n",
        "print(f\"Alarm created: {response}\")"
      ],
      "metadata": {
        "id": "Xdf91XE3OpoW"
      },
      "execution_count": null,
      "outputs": []
    },
    {
      "cell_type": "code",
      "source": [
        "# Define the alarm threshold for object count (e.g., 10,000 objects)\n",
        "object_threshold = 10000\n",
        "\n",
        "response = cloudwatch.put_metric_alarm(\n",
        "    AlarmName='S3ObjectCountAlarm',\n",
        "    MetricName='NumberOfObjects',\n",
        "    Namespace='AWS/S3',\n",
        "    Dimensions=[\n",
        "        {\n",
        "            'Name': 'BucketName',\n",
        "            'Value': bucket_name\n",
        "        },\n",
        "        {\n",
        "            'Name': 'StorageType',\n",
        "            'Value': storage_type\n",
        "        }\n",
        "    ],\n",
        "    Statistic='Average',\n",
        "    Period=86400,  # Alarm checks once per day\n",
        "    EvaluationPeriods=1,\n",
        "    Threshold=object_threshold,\n",
        "    ComparisonOperator='GreaterThanThreshold',\n",
        "    AlarmActions=[f'arn:aws:sns:{AWS_DEFAULT_REGION}:{ACCOUNT_ID}:greater-than-threshold'],\n",
        "    AlarmDescription='Alarm when number of objects in S3 exceeds 10,000',\n",
        "    ActionsEnabled=True\n",
        ")\n",
        "\n",
        "print(f\"Alarm created: {response}\")\n"
      ],
      "metadata": {
        "id": "G8WQilnkMLhQ"
      },
      "execution_count": null,
      "outputs": []
    },
    {
      "cell_type": "code",
      "source": [
        "# Create a new SNS topic\n",
        "response = sns.create_topic(Name='S3AlarmsTopic')\n",
        "topic_arn = response['TopicArn']\n",
        "print(f\"Created SNS topic: {topic_arn}\")\n",
        "\n",
        "# Subscribe an email to the topic\n",
        "response = sns.subscribe(\n",
        "    TopicArn=topic_arn,\n",
        "    Protocol='email',\n",
        "    Endpoint= MY_EMAIL\n",
        ")\n",
        "\n",
        "print(f\"Subscription created: {response}\")"
      ],
      "metadata": {
        "colab": {
          "base_uri": "https://localhost:8080/"
        },
        "id": "8g9DMJ5HMaOd",
        "outputId": "8cce0f88-4837-47b4-b858-a62c7ab4e83d"
      },
      "execution_count": 31,
      "outputs": [
        {
          "output_type": "stream",
          "name": "stdout",
          "text": [
            "Created SNS topic: arn:aws:sns:eu-north-1:716360905893:S3AlarmsTopic\n",
            "Subscription created: {'SubscriptionArn': 'pending confirmation', 'ResponseMetadata': {'RequestId': 'cf31ee39-7ee7-5a7e-8313-b160ae1f2233', 'HTTPStatusCode': 200, 'HTTPHeaders': {'x-amzn-requestid': 'cf31ee39-7ee7-5a7e-8313-b160ae1f2233', 'date': 'Tue, 10 Sep 2024 04:44:40 GMT', 'content-type': 'text/xml', 'content-length': '298', 'connection': 'keep-alive'}, 'RetryAttempts': 0}}\n"
          ]
        }
      ]
    },
    {
      "cell_type": "code",
      "source": [],
      "metadata": {
        "id": "8_NbV8YrPphp"
      },
      "execution_count": null,
      "outputs": []
    }
  ],
  "metadata": {
    "colab": {
      "provenance": []
    },
    "kernelspec": {
      "display_name": "Python 3",
      "name": "python3"
    },
    "language_info": {
      "name": "python"
    }
  },
  "nbformat": 4,
  "nbformat_minor": 0
}